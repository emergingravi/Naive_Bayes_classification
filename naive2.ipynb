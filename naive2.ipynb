{
  "nbformat": 4,
  "nbformat_minor": 0,
  "metadata": {
    "colab": {
      "provenance": []
    },
    "kernelspec": {
      "name": "python3",
      "display_name": "Python 3"
    },
    "language_info": {
      "name": "python"
    }
  },
  "cells": [
    {
      "cell_type": "code",
      "execution_count": 2,
      "metadata": {
        "colab": {
          "base_uri": "https://localhost:8080/"
        },
        "id": "PrIAuK2rSRWZ",
        "outputId": "392ceb81-b19f-4e3b-ce38-7ed8d3d2fca9"
      },
      "outputs": [
        {
          "output_type": "stream",
          "name": "stdout",
          "text": [
            "Mounted at /content/drive/\n"
          ]
        }
      ],
      "source": [
        "from google.colab import drive\n",
        "drive.mount('/content/drive/')"
      ]
    },
    {
      "cell_type": "code",
      "source": [
        "import os\n",
        "!pip install openpyxl"
      ],
      "metadata": {
        "colab": {
          "base_uri": "https://localhost:8080/"
        },
        "id": "q7vLO36sSZVP",
        "outputId": "b745e2b4-e9b4-41c0-e816-93c9a56d7f21"
      },
      "execution_count": 3,
      "outputs": [
        {
          "output_type": "stream",
          "name": "stdout",
          "text": [
            "Requirement already satisfied: openpyxl in /usr/local/lib/python3.10/dist-packages (3.1.5)\n",
            "Requirement already satisfied: et-xmlfile in /usr/local/lib/python3.10/dist-packages (from openpyxl) (1.1.0)\n"
          ]
        }
      ]
    },
    {
      "cell_type": "code",
      "source": [
        "import pandas as pd\n",
        "import numpy as np\n",
        "import matplotlib.pyplot as plt\n",
        "import seaborn as sns\n",
        "file_name = \"/content/drive/MyDrive/AI_PYTHON/naive2.xlsx\"\n",
        "df = pd.read_excel(file_name,index_col=0)\n",
        "print(df)"
      ],
      "metadata": {
        "colab": {
          "base_uri": "https://localhost:8080/"
        },
        "id": "8K9X95U2SfEL",
        "outputId": "67075a05-02a5-4b7b-e43c-5e4eb9c8dd88"
      },
      "execution_count": 4,
      "outputs": [
        {
          "output_type": "stream",
          "name": "stdout",
          "text": [
            "     color    type    origin stolen?\n",
            "no                                  \n",
            "1      red  sports  domestic     yes\n",
            "2      red  sports  domestic      no\n",
            "3      red  sports  domestic     yes\n",
            "4   yellow  sports  domestic      no\n",
            "5   yellow  sports  imported     yes\n",
            "6   yellow     suv  imported      no\n",
            "7   yellow     suv  imported     yes\n",
            "8   yellow     suv  domestic      no\n",
            "9      red     suv  imported      no\n",
            "10     red  sports  imported     yes\n"
          ]
        }
      ]
    },
    {
      "cell_type": "code",
      "source": [
        "X, y=df.drop([\"stolen?\"],axis=1),df[\"stolen?\"]\n",
        "print(X.shape)\n",
        "print(y)"
      ],
      "metadata": {
        "colab": {
          "base_uri": "https://localhost:8080/"
        },
        "id": "RMyYKh2uStva",
        "outputId": "6ad3aa73-0d12-46ab-c9f1-c89d47e2ae12"
      },
      "execution_count": 5,
      "outputs": [
        {
          "output_type": "stream",
          "name": "stdout",
          "text": [
            "(10, 3)\n",
            "no\n",
            "1     yes\n",
            "2      no\n",
            "3     yes\n",
            "4      no\n",
            "5     yes\n",
            "6      no\n",
            "7     yes\n",
            "8      no\n",
            "9      no\n",
            "10    yes\n",
            "Name: stolen?, dtype: object\n"
          ]
        }
      ]
    },
    {
      "cell_type": "code",
      "source": [
        "def accuracy_score(y_true, y_pred):\n",
        "\n",
        "\t\"\"\"\tscore = (y_true - y_pred) / len(y_true) \"\"\"\n",
        "\n",
        "\treturn round(float(sum(y_pred == y_true))/float(len(y_true)) * 100 ,2)"
      ],
      "metadata": {
        "id": "o31JWyGdS27s"
      },
      "execution_count": 6,
      "outputs": []
    },
    {
      "cell_type": "code",
      "source": [
        "import numpy as np\n",
        "from sklearn.metrics import accuracy_score\n",
        "\n",
        "class NaiveBayes:\n",
        "    \"\"\"\n",
        "    Bayes Theorem:\n",
        "                                  Likelihood * Class prior probability\n",
        "        Posterior Probability = -------------------------------------\n",
        "                                      Predictor prior probability\n",
        "\n",
        "                                   P(x|c) * P(c)\n",
        "                          P(c|x) = ------------------\n",
        "                                              P(x)\n",
        "    \"\"\"\n",
        "\n",
        "    def __init__(self):\n",
        "        \"\"\"\n",
        "        Attributes:\n",
        "            likelihoods: Likelihood of each feature per class\n",
        "            class_priors: Prior probabilities of classes\n",
        "            pred_priors: Prior probabilities of features\n",
        "            features: All features of the dataset\n",
        "        \"\"\"\n",
        "        self.features = None\n",
        "        self.likelihoods = {}\n",
        "        self.class_priors = {}\n",
        "        self.pred_priors = {}\n",
        "\n",
        "        self.X_train = None\n",
        "        self.y_train = None\n",
        "        self.train_size = 0\n",
        "        self.num_feats = 0\n",
        "\n",
        "    def fit(self, X, y):\n",
        "        \"\"\"\n",
        "        Fit the Naive Bayes model to the training data.\n",
        "        \"\"\"\n",
        "        self.features = list(X.columns)\n",
        "        self.X_train = X\n",
        "        self.y_train = y\n",
        "        self.train_size = X.shape[0]\n",
        "        self.num_feats = X.shape[1]\n",
        "\n",
        "        for feature in self.features:\n",
        "            self.likelihoods[feature] = {}\n",
        "            self.pred_priors[feature] = {}\n",
        "\n",
        "            for feat_val in np.unique(self.X_train[feature]):\n",
        "                self.pred_priors[feature].update({feat_val: 0})\n",
        "\n",
        "                for outcome in np.unique(self.y_train):\n",
        "                    # Convert feat_val and outcome to strings explicitly before concatenation\n",
        "                    self.likelihoods[feature].update({str(feat_val) + '_' + str(outcome): 0})\n",
        "                    self.class_priors.update({outcome: 0})\n",
        "\n",
        "        self._calc_class_prior()\n",
        "        self._calc_likelihoods()\n",
        "        self._calc_predictor_prior()\n",
        "\n",
        "    def _calc_class_prior(self):\n",
        "        \"\"\" P(c) - Prior Class Probability \"\"\"\n",
        "        for outcome in np.unique(self.y_train):\n",
        "            outcome_count = sum(self.y_train == outcome)\n",
        "            self.class_priors[outcome] = outcome_count / self.train_size\n",
        "\n",
        "    def _calc_likelihoods(self):\n",
        "        \"\"\" P(x|c) - Likelihood \"\"\"\n",
        "        for feature in self.features:\n",
        "            for outcome in np.unique(self.y_train):\n",
        "                outcome_count = sum(self.y_train == outcome)\n",
        "                feat_likelihood = self.X_train[feature][self.y_train[self.y_train == outcome].index.values.tolist()].value_counts().to_dict()\n",
        "\n",
        "                for feat_val, count in feat_likelihood.items():\n",
        "                    # Convert feat_val and outcome to strings explicitly before concatenation\n",
        "                    self.likelihoods[feature][str(feat_val) + '_' + str(outcome)] = count / outcome_count\n",
        "\n",
        "    def _calc_predictor_prior(self):\n",
        "        \"\"\" P(x) - Evidence \"\"\"\n",
        "        for feature in self.features:\n",
        "            feat_val_counts = self.X_train[feature].value_counts().to_dict()\n",
        "            for feat_val, count in feat_val_counts.items():\n",
        "                self.pred_priors[feature][feat_val] = count / self.train_size\n",
        "\n",
        "    def predict(self, X):\n",
        "        \"\"\" Calculates Posterior probability P(c|x) \"\"\"\n",
        "        results = []\n",
        "        X = np.array(X)\n",
        "\n",
        "        for query in X:\n",
        "            probs_outcome = {}\n",
        "            for outcome in np.unique(self.y_train):\n",
        "                prior = self.class_priors[outcome]\n",
        "                likelihood = 1\n",
        "\n",
        "                for feat, feat_val in zip(self.features, query):\n",
        "                    likelihood *= self.likelihoods[feat][str(feat_val) + '_' + str(outcome)]\n",
        "\n",
        "                posterior = likelihood * prior\n",
        "                probs_outcome[outcome] = posterior\n",
        "\n",
        "            result = max(probs_outcome, key=lambda x: probs_outcome[x])\n",
        "            print(probs_outcome)\n",
        "            results.append(result)\n",
        "\n",
        "        return np.array(results)"
      ],
      "metadata": {
        "id": "nOREAeRXS9d0"
      },
      "execution_count": 7,
      "outputs": []
    },
    {
      "cell_type": "code",
      "source": [
        "nb_clf = NaiveBayes()\n",
        "nb_clf.fit(X, y)\n",
        "\n",
        "print(\"Train Accuracy: {}\".format(accuracy_score(y, nb_clf.predict(X))))\n",
        "\n",
        "#Query 1:\n",
        "# color type origin stolen?\n",
        "query = np.array([['red','suv','domestic']])\n",
        "print(\"Query:- {} ---> {}\".format(query, nb_clf.predict(query)))"
      ],
      "metadata": {
        "colab": {
          "base_uri": "https://localhost:8080/"
        },
        "id": "UYf6_ncQS_Jk",
        "outputId": "f0a03ef3-3431-4703-86a4-c31c9336c265"
      },
      "execution_count": 8,
      "outputs": [
        {
          "output_type": "stream",
          "name": "stdout",
          "text": [
            "{'no': 0.04800000000000001, 'yes': 0.096}\n",
            "{'no': 0.04800000000000001, 'yes': 0.096}\n",
            "{'no': 0.04800000000000001, 'yes': 0.096}\n",
            "{'no': 0.072, 'yes': 0.06400000000000002}\n",
            "{'no': 0.048, 'yes': 0.09600000000000002}\n",
            "{'no': 0.072, 'yes': 0.024000000000000004}\n",
            "{'no': 0.072, 'yes': 0.024000000000000004}\n",
            "{'no': 0.108, 'yes': 0.016000000000000004}\n",
            "{'no': 0.048, 'yes': 0.036}\n",
            "{'no': 0.03200000000000001, 'yes': 0.144}\n",
            "Train Accuracy: 0.8\n",
            "{'no': 0.072, 'yes': 0.024}\n",
            "Query:- [['red' 'suv' 'domestic']] ---> ['no']\n"
          ]
        }
      ]
    },
    {
      "cell_type": "code",
      "source": [],
      "metadata": {
        "id": "lk5h9W6uTRNd"
      },
      "execution_count": null,
      "outputs": []
    }
  ]
}